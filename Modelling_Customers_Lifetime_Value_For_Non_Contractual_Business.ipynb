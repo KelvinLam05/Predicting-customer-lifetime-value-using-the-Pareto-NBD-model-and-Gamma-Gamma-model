{
  "nbformat": 4,
  "nbformat_minor": 0,
  "metadata": {
    "colab": {
      "name": "Modelling Customers Lifetime Value For Non-Contractual Business.ipynb",
      "provenance": [],
      "collapsed_sections": [],
      "authorship_tag": "ABX9TyNgTaUDLvmV7V7zrHBVdKfL",
      "include_colab_link": true
    },
    "kernelspec": {
      "name": "python3",
      "display_name": "Python 3"
    },
    "language_info": {
      "name": "python"
    }
  },
  "cells": [
    {
      "cell_type": "markdown",
      "metadata": {
        "id": "view-in-github",
        "colab_type": "text"
      },
      "source": [
        "<a href=\"https://colab.research.google.com/github/KelvinLam05/Predicting-customer-lifetime-value-using-the-Pareto-NBD-model-and-Gamma-Gamma-model/blob/main/Modelling_Customers_Lifetime_Value_For_Non_Contractual_Business.ipynb\" target=\"_parent\"><img src=\"https://colab.research.google.com/assets/colab-badge.svg\" alt=\"Open In Colab\"/></a>"
      ]
    },
    {
      "cell_type": "markdown",
      "metadata": {
        "id": "cc2dzqnawBLI"
      },
      "source": [
        "**Goal of the project**\n",
        "\n",
        "The aim of this project will be to perform a customer lifetime value analysis."
      ]
    },
    {
      "cell_type": "markdown",
      "metadata": {
        "id": "t-dvN-6_o_Mf"
      },
      "source": [
        "**Data set information**\n",
        "\n",
        "Detailed data on sales of consumer goods obtained by ‘scanning’ the bar codes for individual products at electronic points of sale in a retail store. The data provide detailed information about quantities, characteristics and values of goods sold as well as their prices.\n",
        "\n",
        "The anonymized dataset includes 64.682 transactions of 5.242 SKU's sold to 22.625 customers during one year."
      ]
    },
    {
      "cell_type": "markdown",
      "metadata": {
        "id": "JTrWhYGwpEjl"
      },
      "source": [
        "**Attribute information**\n",
        "\n",
        "* Date of Sales Transaction\n",
        "\n",
        "* Customer ID\n",
        "\n",
        "* Transaction ID\n",
        "\n",
        "* SKU Category ID\n",
        "\n",
        "* SKU ID\n",
        "\n",
        "* Quantity Sold\n",
        "\n",
        "* Sales Amount"
      ]
    },
    {
      "cell_type": "code",
      "metadata": {
        "id": "h465Ve39vNgt"
      },
      "source": [
        "import pandas as pd\n",
        "import seaborn as sns\n",
        "import matplotlib.pyplot as plt\n",
        "from matplotlib.pyplot import figure\n",
        "\n",
        "from lifetimes import BetaGeoFitter\n",
        "from lifetimes.utils import calibration_and_holdout_data\n",
        "from lifetimes.utils import summary_data_from_transaction_data\n",
        "from lifetimes.plotting import plot_frequency_recency_matrix\n",
        "from lifetimes.plotting import plot_probability_alive_matrix\n",
        "from lifetimes.plotting import plot_period_transactions\n",
        "from lifetimes.plotting import plot_history_alive\n",
        "from lifetimes.plotting import plot_calibration_purchases_vs_holdout_purchases\n",
        "import warnings\n",
        "\n",
        "warnings.filterwarnings('ignore')"
      ],
      "execution_count": null,
      "outputs": []
    },
    {
      "cell_type": "code",
      "metadata": {
        "id": "B9nC170Yv75x"
      },
      "source": [
        "df = pd.read_csv('/content/scanner_data.csv')"
      ],
      "execution_count": null,
      "outputs": []
    },
    {
      "cell_type": "code",
      "metadata": {
        "colab": {
          "base_uri": "https://localhost:8080/",
          "height": 204
        },
        "id": "OVisk4nBxkXA",
        "outputId": "15f66313-2e32-4708-bda9-c159c120dd64"
      },
      "source": [
        "df.head()"
      ],
      "execution_count": null,
      "outputs": [
        {
          "output_type": "execute_result",
          "data": {
            "text/html": [
              "<div>\n",
              "<style scoped>\n",
              "    .dataframe tbody tr th:only-of-type {\n",
              "        vertical-align: middle;\n",
              "    }\n",
              "\n",
              "    .dataframe tbody tr th {\n",
              "        vertical-align: top;\n",
              "    }\n",
              "\n",
              "    .dataframe thead th {\n",
              "        text-align: right;\n",
              "    }\n",
              "</style>\n",
              "<table border=\"1\" class=\"dataframe\">\n",
              "  <thead>\n",
              "    <tr style=\"text-align: right;\">\n",
              "      <th></th>\n",
              "      <th>Unnamed: 0</th>\n",
              "      <th>Date</th>\n",
              "      <th>Customer_ID</th>\n",
              "      <th>Transaction_ID</th>\n",
              "      <th>SKU_Category</th>\n",
              "      <th>SKU</th>\n",
              "      <th>Quantity</th>\n",
              "      <th>Sales_Amount</th>\n",
              "    </tr>\n",
              "  </thead>\n",
              "  <tbody>\n",
              "    <tr>\n",
              "      <th>0</th>\n",
              "      <td>1</td>\n",
              "      <td>02/01/2016</td>\n",
              "      <td>2547</td>\n",
              "      <td>1</td>\n",
              "      <td>X52</td>\n",
              "      <td>0EM7L</td>\n",
              "      <td>1.0</td>\n",
              "      <td>3.13</td>\n",
              "    </tr>\n",
              "    <tr>\n",
              "      <th>1</th>\n",
              "      <td>2</td>\n",
              "      <td>02/01/2016</td>\n",
              "      <td>822</td>\n",
              "      <td>2</td>\n",
              "      <td>2ML</td>\n",
              "      <td>68BRQ</td>\n",
              "      <td>1.0</td>\n",
              "      <td>5.46</td>\n",
              "    </tr>\n",
              "    <tr>\n",
              "      <th>2</th>\n",
              "      <td>3</td>\n",
              "      <td>02/01/2016</td>\n",
              "      <td>3686</td>\n",
              "      <td>3</td>\n",
              "      <td>0H2</td>\n",
              "      <td>CZUZX</td>\n",
              "      <td>1.0</td>\n",
              "      <td>6.35</td>\n",
              "    </tr>\n",
              "    <tr>\n",
              "      <th>3</th>\n",
              "      <td>4</td>\n",
              "      <td>02/01/2016</td>\n",
              "      <td>3719</td>\n",
              "      <td>4</td>\n",
              "      <td>0H2</td>\n",
              "      <td>549KK</td>\n",
              "      <td>1.0</td>\n",
              "      <td>5.59</td>\n",
              "    </tr>\n",
              "    <tr>\n",
              "      <th>4</th>\n",
              "      <td>5</td>\n",
              "      <td>02/01/2016</td>\n",
              "      <td>9200</td>\n",
              "      <td>5</td>\n",
              "      <td>0H2</td>\n",
              "      <td>K8EHH</td>\n",
              "      <td>1.0</td>\n",
              "      <td>6.88</td>\n",
              "    </tr>\n",
              "  </tbody>\n",
              "</table>\n",
              "</div>"
            ],
            "text/plain": [
              "   Unnamed: 0        Date  Customer_ID  ...    SKU Quantity Sales_Amount\n",
              "0           1  02/01/2016         2547  ...  0EM7L      1.0         3.13\n",
              "1           2  02/01/2016          822  ...  68BRQ      1.0         5.46\n",
              "2           3  02/01/2016         3686  ...  CZUZX      1.0         6.35\n",
              "3           4  02/01/2016         3719  ...  549KK      1.0         5.59\n",
              "4           5  02/01/2016         9200  ...  K8EHH      1.0         6.88\n",
              "\n",
              "[5 rows x 8 columns]"
            ]
          },
          "metadata": {
            "tags": []
          },
          "execution_count": 39
        }
      ]
    },
    {
      "cell_type": "code",
      "metadata": {
        "colab": {
          "base_uri": "https://localhost:8080/"
        },
        "id": "JrNtcR-FxmeW",
        "outputId": "09a93815-78c0-4628-daa1-807685137598"
      },
      "source": [
        "# Overview of all variables, their datatypes\n",
        "df.info()"
      ],
      "execution_count": null,
      "outputs": [
        {
          "output_type": "stream",
          "text": [
            "<class 'pandas.core.frame.DataFrame'>\n",
            "RangeIndex: 131706 entries, 0 to 131705\n",
            "Data columns (total 8 columns):\n",
            " #   Column          Non-Null Count   Dtype  \n",
            "---  ------          --------------   -----  \n",
            " 0   Unnamed: 0      131706 non-null  int64  \n",
            " 1   Date            131706 non-null  object \n",
            " 2   Customer_ID     131706 non-null  int64  \n",
            " 3   Transaction_ID  131706 non-null  int64  \n",
            " 4   SKU_Category    131706 non-null  object \n",
            " 5   SKU             131706 non-null  object \n",
            " 6   Quantity        131706 non-null  float64\n",
            " 7   Sales_Amount    131706 non-null  float64\n",
            "dtypes: float64(2), int64(3), object(3)\n",
            "memory usage: 8.0+ MB\n"
          ],
          "name": "stdout"
        }
      ]
    },
    {
      "cell_type": "code",
      "metadata": {
        "id": "Sd1QiOpXycZ6"
      },
      "source": [
        "df['Date'] = df['Date'].apply(pd.to_datetime)"
      ],
      "execution_count": null,
      "outputs": []
    },
    {
      "cell_type": "code",
      "metadata": {
        "colab": {
          "base_uri": "https://localhost:8080/"
        },
        "id": "jCWGxTEQy50w",
        "outputId": "b10dd1c7-2d4e-47a0-de1c-a0a8adbe5fbf"
      },
      "source": [
        "df.info()"
      ],
      "execution_count": null,
      "outputs": [
        {
          "output_type": "stream",
          "text": [
            "<class 'pandas.core.frame.DataFrame'>\n",
            "RangeIndex: 131706 entries, 0 to 131705\n",
            "Data columns (total 8 columns):\n",
            " #   Column          Non-Null Count   Dtype         \n",
            "---  ------          --------------   -----         \n",
            " 0   Unnamed: 0      131706 non-null  int64         \n",
            " 1   Date            131706 non-null  datetime64[ns]\n",
            " 2   Customer_ID     131706 non-null  int64         \n",
            " 3   Transaction_ID  131706 non-null  int64         \n",
            " 4   SKU_Category    131706 non-null  object        \n",
            " 5   SKU             131706 non-null  object        \n",
            " 6   Quantity        131706 non-null  float64       \n",
            " 7   Sales_Amount    131706 non-null  float64       \n",
            "dtypes: datetime64[ns](1), float64(2), int64(3), object(2)\n",
            "memory usage: 8.0+ MB\n"
          ],
          "name": "stdout"
        }
      ]
    },
    {
      "cell_type": "code",
      "metadata": {
        "colab": {
          "base_uri": "https://localhost:8080/"
        },
        "id": "4VGVWPHIxsrw",
        "outputId": "c10e5bd8-bbb9-4676-b2c8-f0c5ce1bff18"
      },
      "source": [
        "# Checking for missing values\n",
        "df.isnull().sum().sort_values(ascending = False)"
      ],
      "execution_count": null,
      "outputs": [
        {
          "output_type": "execute_result",
          "data": {
            "text/plain": [
              "Sales_Amount      0\n",
              "Quantity          0\n",
              "SKU               0\n",
              "SKU_Category      0\n",
              "Transaction_ID    0\n",
              "Customer_ID       0\n",
              "Date              0\n",
              "Unnamed: 0        0\n",
              "dtype: int64"
            ]
          },
          "metadata": {
            "tags": []
          },
          "execution_count": 43
        }
      ]
    },
    {
      "cell_type": "code",
      "metadata": {
        "id": "aMRtSaWGx-bF"
      },
      "source": [
        "cols_of_interest = ['Customer_ID', 'Sales_Amount', 'Date']"
      ],
      "execution_count": null,
      "outputs": []
    },
    {
      "cell_type": "code",
      "metadata": {
        "id": "HqwaUCp20_QA"
      },
      "source": [
        "df = df[cols_of_interest]"
      ],
      "execution_count": null,
      "outputs": []
    },
    {
      "cell_type": "code",
      "metadata": {
        "colab": {
          "base_uri": "https://localhost:8080/",
          "height": 204
        },
        "id": "MXlyWglg1CnI",
        "outputId": "f20b5658-fb80-4117-9e5f-2bdc9a77b920"
      },
      "source": [
        "df.head()"
      ],
      "execution_count": null,
      "outputs": [
        {
          "output_type": "execute_result",
          "data": {
            "text/html": [
              "<div>\n",
              "<style scoped>\n",
              "    .dataframe tbody tr th:only-of-type {\n",
              "        vertical-align: middle;\n",
              "    }\n",
              "\n",
              "    .dataframe tbody tr th {\n",
              "        vertical-align: top;\n",
              "    }\n",
              "\n",
              "    .dataframe thead th {\n",
              "        text-align: right;\n",
              "    }\n",
              "</style>\n",
              "<table border=\"1\" class=\"dataframe\">\n",
              "  <thead>\n",
              "    <tr style=\"text-align: right;\">\n",
              "      <th></th>\n",
              "      <th>Customer_ID</th>\n",
              "      <th>Sales_Amount</th>\n",
              "      <th>Date</th>\n",
              "    </tr>\n",
              "  </thead>\n",
              "  <tbody>\n",
              "    <tr>\n",
              "      <th>0</th>\n",
              "      <td>2547</td>\n",
              "      <td>3.13</td>\n",
              "      <td>2016-02-01</td>\n",
              "    </tr>\n",
              "    <tr>\n",
              "      <th>1</th>\n",
              "      <td>822</td>\n",
              "      <td>5.46</td>\n",
              "      <td>2016-02-01</td>\n",
              "    </tr>\n",
              "    <tr>\n",
              "      <th>2</th>\n",
              "      <td>3686</td>\n",
              "      <td>6.35</td>\n",
              "      <td>2016-02-01</td>\n",
              "    </tr>\n",
              "    <tr>\n",
              "      <th>3</th>\n",
              "      <td>3719</td>\n",
              "      <td>5.59</td>\n",
              "      <td>2016-02-01</td>\n",
              "    </tr>\n",
              "    <tr>\n",
              "      <th>4</th>\n",
              "      <td>9200</td>\n",
              "      <td>6.88</td>\n",
              "      <td>2016-02-01</td>\n",
              "    </tr>\n",
              "  </tbody>\n",
              "</table>\n",
              "</div>"
            ],
            "text/plain": [
              "   Customer_ID  Sales_Amount       Date\n",
              "0         2547          3.13 2016-02-01\n",
              "1          822          5.46 2016-02-01\n",
              "2         3686          6.35 2016-02-01\n",
              "3         3719          5.59 2016-02-01\n",
              "4         9200          6.88 2016-02-01"
            ]
          },
          "metadata": {
            "tags": []
          },
          "execution_count": 46
        }
      ]
    },
    {
      "cell_type": "code",
      "metadata": {
        "colab": {
          "base_uri": "https://localhost:8080/"
        },
        "id": "e5eSQWW-1MWI",
        "outputId": "287a09d2-3f14-4097-c93e-8a1a7ddc12a5"
      },
      "source": [
        "print(df['Customer_ID'].nunique())"
      ],
      "execution_count": null,
      "outputs": [
        {
          "output_type": "stream",
          "text": [
            "22625\n"
          ],
          "name": "stdout"
        }
      ]
    },
    {
      "cell_type": "markdown",
      "metadata": {
        "id": "M6JAfcLu1cE-"
      },
      "source": [
        "There are 22,625 customers under our analysis."
      ]
    },
    {
      "cell_type": "markdown",
      "metadata": {
        "id": "-EdA3lLV1vAQ"
      },
      "source": [
        "For the CLV models, the following nomenclature is used:\n",
        "\n",
        "* Frequency represents the number of repeat purchases the customer has made. This means that it’s one less than the total number of purchases.\n",
        "\n",
        "* T represents the age of the customer in whatever time units chosen (daily, in our dataset). This is equal to the duration between a customer’s first purchase and the end of the period under study.\n",
        "\n",
        "* Recency represents the age of the customer when they made their most recent purchases. This is equal to the duration between a customer’s first purchase and their latest purchase. (Thus if they have made only 1 purchase, the recency is 0.)"
      ]
    },
    {
      "cell_type": "code",
      "metadata": {
        "colab": {
          "base_uri": "https://localhost:8080/"
        },
        "id": "5JtE9nm512Yc",
        "outputId": "dc7ca1c3-7c67-400a-bf92-6561552e96e8"
      },
      "source": [
        "df['Date'].max()"
      ],
      "execution_count": null,
      "outputs": [
        {
          "output_type": "execute_result",
          "data": {
            "text/plain": [
              "Timestamp('2016-12-31 00:00:00')"
            ]
          },
          "metadata": {
            "tags": []
          },
          "execution_count": 48
        }
      ]
    },
    {
      "cell_type": "code",
      "metadata": {
        "id": "roNxFPkp1Tdq"
      },
      "source": [
        "# Calculate the raw recency, frequency, and monetary metrics\n",
        "df_rfmt = summary_data_from_transaction_data(df, 'Customer_ID', 'Date', 'Sales_Amount', observation_period_end = '2016-12-31')"
      ],
      "execution_count": null,
      "outputs": []
    },
    {
      "cell_type": "code",
      "metadata": {
        "colab": {
          "base_uri": "https://localhost:8080/",
          "height": 235
        },
        "id": "qGOHgCir2kDF",
        "outputId": "d65e9ec9-9c29-4e0a-81ba-403a85858ef9"
      },
      "source": [
        "df_rfmt.head()"
      ],
      "execution_count": null,
      "outputs": [
        {
          "output_type": "execute_result",
          "data": {
            "text/html": [
              "<div>\n",
              "<style scoped>\n",
              "    .dataframe tbody tr th:only-of-type {\n",
              "        vertical-align: middle;\n",
              "    }\n",
              "\n",
              "    .dataframe tbody tr th {\n",
              "        vertical-align: top;\n",
              "    }\n",
              "\n",
              "    .dataframe thead th {\n",
              "        text-align: right;\n",
              "    }\n",
              "</style>\n",
              "<table border=\"1\" class=\"dataframe\">\n",
              "  <thead>\n",
              "    <tr style=\"text-align: right;\">\n",
              "      <th></th>\n",
              "      <th>frequency</th>\n",
              "      <th>recency</th>\n",
              "      <th>T</th>\n",
              "      <th>monetary_value</th>\n",
              "    </tr>\n",
              "    <tr>\n",
              "      <th>Customer_ID</th>\n",
              "      <th></th>\n",
              "      <th></th>\n",
              "      <th></th>\n",
              "      <th></th>\n",
              "    </tr>\n",
              "  </thead>\n",
              "  <tbody>\n",
              "    <tr>\n",
              "      <th>1</th>\n",
              "      <td>0.0</td>\n",
              "      <td>0.0</td>\n",
              "      <td>344.0</td>\n",
              "      <td>0.0000</td>\n",
              "    </tr>\n",
              "    <tr>\n",
              "      <th>2</th>\n",
              "      <td>1.0</td>\n",
              "      <td>87.0</td>\n",
              "      <td>282.0</td>\n",
              "      <td>15.0000</td>\n",
              "    </tr>\n",
              "    <tr>\n",
              "      <th>3</th>\n",
              "      <td>0.0</td>\n",
              "      <td>0.0</td>\n",
              "      <td>334.0</td>\n",
              "      <td>0.0000</td>\n",
              "    </tr>\n",
              "    <tr>\n",
              "      <th>4</th>\n",
              "      <td>1.0</td>\n",
              "      <td>57.0</td>\n",
              "      <td>111.0</td>\n",
              "      <td>6.6900</td>\n",
              "    </tr>\n",
              "    <tr>\n",
              "      <th>5</th>\n",
              "      <td>4.0</td>\n",
              "      <td>193.0</td>\n",
              "      <td>313.0</td>\n",
              "      <td>14.6725</td>\n",
              "    </tr>\n",
              "  </tbody>\n",
              "</table>\n",
              "</div>"
            ],
            "text/plain": [
              "             frequency  recency      T  monetary_value\n",
              "Customer_ID                                           \n",
              "1                  0.0      0.0  344.0          0.0000\n",
              "2                  1.0     87.0  282.0         15.0000\n",
              "3                  0.0      0.0  334.0          0.0000\n",
              "4                  1.0     57.0  111.0          6.6900\n",
              "5                  4.0    193.0  313.0         14.6725"
            ]
          },
          "metadata": {
            "tags": []
          },
          "execution_count": 50
        }
      ]
    },
    {
      "cell_type": "markdown",
      "metadata": {
        "id": "xgsWY0qd20oV"
      },
      "source": [
        "Customer_ID 1 made 1 purchase only (no repeat), so his frequency and recency are 0, and his age is 76 days (e.g. the duration between his first purchase and the end of the period in the analysis)."
      ]
    },
    {
      "cell_type": "code",
      "metadata": {
        "colab": {
          "base_uri": "https://localhost:8080/"
        },
        "id": "7ibFdRUV2nsz",
        "outputId": "cc0ed6f1-3bed-4bc3-9e41-3bc30bf59d85"
      },
      "source": [
        "print(df_rfmt['frequency'].describe())\n",
        "print(sum(df_rfmt['frequency'] == 0)/ float(len(df_rfmt)))"
      ],
      "execution_count": null,
      "outputs": [
        {
          "output_type": "stream",
          "text": [
            "count    22625.000000\n",
            "mean         1.772464\n",
            "std          3.766669\n",
            "min          0.000000\n",
            "25%          0.000000\n",
            "50%          0.000000\n",
            "75%          2.000000\n",
            "max         76.000000\n",
            "Name: frequency, dtype: float64\n",
            "0.5241546961325967\n"
          ],
          "name": "stdout"
        }
      ]
    },
    {
      "cell_type": "code",
      "metadata": {
        "colab": {
          "base_uri": "https://localhost:8080/",
          "height": 279
        },
        "id": "DSDcP0jd3Cf_",
        "outputId": "52fe1712-862d-498d-b154-fe541c67599f"
      },
      "source": [
        "ax = sns.distplot(df_rfmt['frequency'])"
      ],
      "execution_count": null,
      "outputs": [
        {
          "output_type": "display_data",
          "data": {
            "image/png": "[encoded data removed]",
            "text/plain": [
              "<Figure size 432x288 with 1 Axes>"
            ]
          },
          "metadata": {
            "tags": [],
            "needs_background": "light"
          }
        }
      ]
    },
    {
      "cell_type": "markdown",
      "metadata": {
        "id": "LW_5srmB3QPM"
      },
      "source": [
        "Among all customers in our data, more than 52% of them only made purchase once  (no repeat)."
      ]
    },
    {
      "cell_type": "markdown",
      "metadata": {
        "id": "NFUsn62wqcAk"
      },
      "source": [
        "**Basic Frequency/Recency analysis using the BG/NBD model**"
      ]
    },
    {
      "cell_type": "code",
      "metadata": {
        "colab": {
          "base_uri": "https://localhost:8080/",
          "height": 173
        },
        "id": "DNuUxPSY3Hjf",
        "outputId": "8d7973bc-9587-4bc3-d0f4-3bd907dcb327"
      },
      "source": [
        "bgf = BetaGeoFitter(penalizer_coef = 0)\n",
        "bgf.fit(df_rfmt['frequency'], df_rfmt['recency'], df_rfmt['T'], tol = 1e-6)\n",
        "bgf.summary"
      ],
      "execution_count": null,
      "outputs": [
        {
          "output_type": "execute_result",
          "data": {
            "text/html": [
              "<div>\n",
              "<style scoped>\n",
              "    .dataframe tbody tr th:only-of-type {\n",
              "        vertical-align: middle;\n",
              "    }\n",
              "\n",
              "    .dataframe tbody tr th {\n",
              "        vertical-align: top;\n",
              "    }\n",
              "\n",
              "    .dataframe thead th {\n",
              "        text-align: right;\n",
              "    }\n",
              "</style>\n",
              "<table border=\"1\" class=\"dataframe\">\n",
              "  <thead>\n",
              "    <tr style=\"text-align: right;\">\n",
              "      <th></th>\n",
              "      <th>coef</th>\n",
              "      <th>se(coef)</th>\n",
              "      <th>lower 95% bound</th>\n",
              "      <th>upper 95% bound</th>\n",
              "    </tr>\n",
              "  </thead>\n",
              "  <tbody>\n",
              "    <tr>\n",
              "      <th>r</th>\n",
              "      <td>0.444132</td>\n",
              "      <td>0.007045</td>\n",
              "      <td>0.430324</td>\n",
              "      <td>0.457940</td>\n",
              "    </tr>\n",
              "    <tr>\n",
              "      <th>alpha</th>\n",
              "      <td>51.948589</td>\n",
              "      <td>1.100228</td>\n",
              "      <td>49.792142</td>\n",
              "      <td>54.105037</td>\n",
              "    </tr>\n",
              "    <tr>\n",
              "      <th>a</th>\n",
              "      <td>0.164658</td>\n",
              "      <td>0.014057</td>\n",
              "      <td>0.137107</td>\n",
              "      <td>0.192209</td>\n",
              "    </tr>\n",
              "    <tr>\n",
              "      <th>b</th>\n",
              "      <td>1.429004</td>\n",
              "      <td>0.160691</td>\n",
              "      <td>1.114050</td>\n",
              "      <td>1.743958</td>\n",
              "    </tr>\n",
              "  </tbody>\n",
              "</table>\n",
              "</div>"
            ],
            "text/plain": [
              "            coef  se(coef)  lower 95% bound  upper 95% bound\n",
              "r       0.444132  0.007045         0.430324         0.457940\n",
              "alpha  51.948589  1.100228        49.792142        54.105037\n",
              "a       0.164658  0.014057         0.137107         0.192209\n",
              "b       1.429004  0.160691         1.114050         1.743958"
            ]
          },
          "metadata": {
            "tags": []
          },
          "execution_count": 53
        }
      ]
    },
    {
      "cell_type": "markdown",
      "metadata": {
        "id": "bnLlEbKDqkSm"
      },
      "source": [
        "**Visualizing the Frequency/Recency Matrix**"
      ]
    },
    {
      "cell_type": "code",
      "metadata": {
        "id": "TqzrXcmt3b6u",
        "colab": {
          "base_uri": "https://localhost:8080/",
          "height": 597
        },
        "outputId": "6274751c-9250-4cb5-8c2a-bb5fbe1a12d3"
      },
      "source": [
        "figure(num = None, figsize = (12, 8), dpi = 80, facecolor = 'w', edgecolor = 'k')\n",
        "plot_frequency_recency_matrix(bgf)"
      ],
      "execution_count": null,
      "outputs": [
        {
          "output_type": "execute_result",
          "data": {
            "text/plain": [
              "<matplotlib.axes._subplots.AxesSubplot at 0x7f0cbadf1f10>"
            ]
          },
          "metadata": {
            "tags": []
          },
          "execution_count": 54
        },
        {
          "output_type": "display_data",
          "data": {
            "image/png": "[encoded data removed]",
            "text/plain": [
              "<Figure size 960x640 with 2 Axes>"
            ]
          },
          "metadata": {
            "tags": []
          }
        }
      ]
    },
    {
      "cell_type": "markdown",
      "metadata": {
        "id": "rE29F9fAU7zx"
      },
      "source": [
        "We can see that if a customer has bought 70 times from you, and their latest purchase was when they were 350 days old (i.e. Recency: the duration between their first transaction and their latest transaction is 350 days), then they are our best customer (bottom-right). Our coldest customers\n",
        "are those that are in the top-right corner: they bought a lot quickly, and we haven’t seen them in weeks.\n",
        "\n",
        "There’s also that beautiful “tail” around (10, 250). That represents the customer who buys infrequently, but we’ve seen him or her recently, so they might buy again - we’re not sure if they are dead or just between purchases."
      ]
    },
    {
      "cell_type": "code",
      "metadata": {
        "colab": {
          "base_uri": "https://localhost:8080/",
          "height": 597
        },
        "id": "kZmyprok59ni",
        "outputId": "85a8e19a-3ce5-405c-a363-0dff57a2dd4b"
      },
      "source": [
        "figure(num = None, figsize = (12, 8), dpi = 80, facecolor = 'w', edgecolor = 'k')\n",
        "plot_probability_alive_matrix(bgf)"
      ],
      "execution_count": null,
      "outputs": [
        {
          "output_type": "execute_result",
          "data": {
            "text/plain": [
              "<matplotlib.axes._subplots.AxesSubplot at 0x7f0cba4b8250>"
            ]
          },
          "metadata": {
            "tags": []
          },
          "execution_count": 55
        },
        {
          "output_type": "display_data",
          "data": {
            "image/png": "[encoded data removed]",
            "text/plain": [
              "<Figure size 960x640 with 2 Axes>"
            ]
          },
          "metadata": {
            "tags": []
          }
        }
      ]
    },
    {
      "cell_type": "markdown",
      "metadata": {
        "id": "zG0tU_zYq26E"
      },
      "source": [
        "**Ranking customers from best to worst**"
      ]
    },
    {
      "cell_type": "code",
      "metadata": {
        "id": "QhzIir336Eov"
      },
      "source": [
        "t = 1\n",
        "df_rfmt['predicted_purchases'] = bgf.conditional_expected_number_of_purchases_up_to_time(t, df_rfmt['frequency'], df_rfmt['recency'], df_rfmt['T'])"
      ],
      "execution_count": null,
      "outputs": []
    },
    {
      "cell_type": "code",
      "metadata": {
        "colab": {
          "base_uri": "https://localhost:8080/",
          "height": 235
        },
        "id": "86vA7AL66mFj",
        "outputId": "e6526b29-6078-4c94-8c40-4ab88fa1be53"
      },
      "source": [
        "df_rfmt.sort_values(by = 'predicted_purchases').tail(5)"
      ],
      "execution_count": null,
      "outputs": [
        {
          "output_type": "execute_result",
          "data": {
            "text/html": [
              "<div>\n",
              "<style scoped>\n",
              "    .dataframe tbody tr th:only-of-type {\n",
              "        vertical-align: middle;\n",
              "    }\n",
              "\n",
              "    .dataframe tbody tr th {\n",
              "        vertical-align: top;\n",
              "    }\n",
              "\n",
              "    .dataframe thead th {\n",
              "        text-align: right;\n",
              "    }\n",
              "</style>\n",
              "<table border=\"1\" class=\"dataframe\">\n",
              "  <thead>\n",
              "    <tr style=\"text-align: right;\">\n",
              "      <th></th>\n",
              "      <th>frequency</th>\n",
              "      <th>recency</th>\n",
              "      <th>T</th>\n",
              "      <th>monetary_value</th>\n",
              "      <th>predicted_purchases</th>\n",
              "    </tr>\n",
              "    <tr>\n",
              "      <th>Customer_ID</th>\n",
              "      <th></th>\n",
              "      <th></th>\n",
              "      <th></th>\n",
              "      <th></th>\n",
              "      <th></th>\n",
              "    </tr>\n",
              "  </thead>\n",
              "  <tbody>\n",
              "    <tr>\n",
              "      <th>15685</th>\n",
              "      <td>58.0</td>\n",
              "      <td>345.0</td>\n",
              "      <td>355.0</td>\n",
              "      <td>25.722069</td>\n",
              "      <td>0.141875</td>\n",
              "    </tr>\n",
              "    <tr>\n",
              "      <th>1685</th>\n",
              "      <td>65.0</td>\n",
              "      <td>352.0</td>\n",
              "      <td>362.0</td>\n",
              "      <td>21.250769</td>\n",
              "      <td>0.156119</td>\n",
              "    </tr>\n",
              "    <tr>\n",
              "      <th>1665</th>\n",
              "      <td>71.0</td>\n",
              "      <td>362.0</td>\n",
              "      <td>364.0</td>\n",
              "      <td>25.679718</td>\n",
              "      <td>0.171171</td>\n",
              "    </tr>\n",
              "    <tr>\n",
              "      <th>1710</th>\n",
              "      <td>71.0</td>\n",
              "      <td>356.0</td>\n",
              "      <td>358.0</td>\n",
              "      <td>18.347746</td>\n",
              "      <td>0.173673</td>\n",
              "    </tr>\n",
              "    <tr>\n",
              "      <th>1660</th>\n",
              "      <td>76.0</td>\n",
              "      <td>361.0</td>\n",
              "      <td>361.0</td>\n",
              "      <td>18.609342</td>\n",
              "      <td>0.184683</td>\n",
              "    </tr>\n",
              "  </tbody>\n",
              "</table>\n",
              "</div>"
            ],
            "text/plain": [
              "             frequency  recency      T  monetary_value  predicted_purchases\n",
              "Customer_ID                                                                \n",
              "15685             58.0    345.0  355.0       25.722069             0.141875\n",
              "1685              65.0    352.0  362.0       21.250769             0.156119\n",
              "1665              71.0    362.0  364.0       25.679718             0.171171\n",
              "1710              71.0    356.0  358.0       18.347746             0.173673\n",
              "1660              76.0    361.0  361.0       18.609342             0.184683"
            ]
          },
          "metadata": {
            "tags": []
          },
          "execution_count": 57
        }
      ]
    },
    {
      "cell_type": "markdown",
      "metadata": {
        "id": "n6s7mWIm6vTb"
      },
      "source": [
        "Listed above are our top 5 customers that the model expects them to make purchases in the next day. The predicted_purchases column represents their expected number of purchases while the other three columns represent their current RF metrics. The BG/NBD model believes these individuals will be making more purchases within the near future as they are our current best customers."
      ]
    },
    {
      "cell_type": "markdown",
      "metadata": {
        "id": "XQcGtZkUq-Tl"
      },
      "source": [
        "**Assessing model fit**"
      ]
    },
    {
      "cell_type": "markdown",
      "metadata": {
        "id": "aE_XxPlFOjNo"
      },
      "source": [
        "Ok, we can predict and we can visualize our customers’ behaviour, but is our model correct? There are a few ways to assess the model’s correctness. The first is to compare the data versus artificial data simulated with the fitted\n",
        "model’s parameters."
      ]
    },
    {
      "cell_type": "code",
      "metadata": {
        "colab": {
          "base_uri": "https://localhost:8080/",
          "height": 309
        },
        "id": "C5rhNrnX6p4X",
        "outputId": "872a5861-e401-4f2c-ca91-d98016cc6288"
      },
      "source": [
        "# Assessing model fit\n",
        "plot_period_transactions(bgf)"
      ],
      "execution_count": null,
      "outputs": [
        {
          "output_type": "execute_result",
          "data": {
            "text/plain": [
              "<matplotlib.axes._subplots.AxesSubplot at 0x7f0cae7dda90>"
            ]
          },
          "metadata": {
            "tags": []
          },
          "execution_count": 58
        },
        {
          "output_type": "display_data",
          "data": {
            "image/png": "[encoded data removed]",
            "text/plain": [
              "<Figure size 432x288 with 1 Axes>"
            ]
          },
          "metadata": {
            "tags": [],
            "needs_background": "light"
          }
        }
      ]
    },
    {
      "cell_type": "markdown",
      "metadata": {
        "id": "33aKiaAV7DTv"
      },
      "source": [
        "We can see that our actual data and our simulated data line up well. This proves that our model doesn’t suck. So, we can continue on with our analysis."
      ]
    },
    {
      "cell_type": "markdown",
      "metadata": {
        "id": "pbyDQHDsrgyw"
      },
      "source": [
        "**More model fitting**"
      ]
    },
    {
      "cell_type": "markdown",
      "metadata": {
        "id": "-FuCTdpuN3j9"
      },
      "source": [
        "With transactional data, we can partition the dataset into a calibration period dataset and a holdout dataset. This is\n",
        "important as we want to test how our model performs on data not yet seen (think cross-validation in standard machine\n",
        "learning literature). Lifetimes has a function to partition our dataset like this:"
      ]
    },
    {
      "cell_type": "code",
      "metadata": {
        "id": "fR-s-DiE67ob"
      },
      "source": [
        "summary_cal_holdout = calibration_and_holdout_data(df, 'Customer_ID', 'Date', calibration_period_end = '2016-06-01', observation_period_end = '2016-12-31')"
      ],
      "execution_count": null,
      "outputs": []
    },
    {
      "cell_type": "code",
      "metadata": {
        "colab": {
          "base_uri": "https://localhost:8080/",
          "height": 235
        },
        "id": "EzZIpNlJ7vgh",
        "outputId": "3767c389-88a2-4fa4-dca0-cebbecd22815"
      },
      "source": [
        "summary_cal_holdout.sort_values(by = 'frequency_holdout', ascending = False).head()"
      ],
      "execution_count": null,
      "outputs": [
        {
          "output_type": "execute_result",
          "data": {
            "text/html": [
              "<div>\n",
              "<style scoped>\n",
              "    .dataframe tbody tr th:only-of-type {\n",
              "        vertical-align: middle;\n",
              "    }\n",
              "\n",
              "    .dataframe tbody tr th {\n",
              "        vertical-align: top;\n",
              "    }\n",
              "\n",
              "    .dataframe thead th {\n",
              "        text-align: right;\n",
              "    }\n",
              "</style>\n",
              "<table border=\"1\" class=\"dataframe\">\n",
              "  <thead>\n",
              "    <tr style=\"text-align: right;\">\n",
              "      <th></th>\n",
              "      <th>frequency_cal</th>\n",
              "      <th>recency_cal</th>\n",
              "      <th>T_cal</th>\n",
              "      <th>frequency_holdout</th>\n",
              "      <th>duration_holdout</th>\n",
              "    </tr>\n",
              "    <tr>\n",
              "      <th>Customer_ID</th>\n",
              "      <th></th>\n",
              "      <th></th>\n",
              "      <th></th>\n",
              "      <th></th>\n",
              "      <th></th>\n",
              "    </tr>\n",
              "  </thead>\n",
              "  <tbody>\n",
              "    <tr>\n",
              "      <th>1660</th>\n",
              "      <td>28.0</td>\n",
              "      <td>147.0</td>\n",
              "      <td>148.0</td>\n",
              "      <td>48.0</td>\n",
              "      <td>213.0</td>\n",
              "    </tr>\n",
              "    <tr>\n",
              "      <th>1710</th>\n",
              "      <td>24.0</td>\n",
              "      <td>144.0</td>\n",
              "      <td>145.0</td>\n",
              "      <td>47.0</td>\n",
              "      <td>213.0</td>\n",
              "    </tr>\n",
              "    <tr>\n",
              "      <th>2186</th>\n",
              "      <td>8.0</td>\n",
              "      <td>125.0</td>\n",
              "      <td>145.0</td>\n",
              "      <td>46.0</td>\n",
              "      <td>213.0</td>\n",
              "    </tr>\n",
              "    <tr>\n",
              "      <th>15685</th>\n",
              "      <td>14.0</td>\n",
              "      <td>131.0</td>\n",
              "      <td>142.0</td>\n",
              "      <td>44.0</td>\n",
              "      <td>213.0</td>\n",
              "    </tr>\n",
              "    <tr>\n",
              "      <th>1665</th>\n",
              "      <td>27.0</td>\n",
              "      <td>150.0</td>\n",
              "      <td>151.0</td>\n",
              "      <td>44.0</td>\n",
              "      <td>213.0</td>\n",
              "    </tr>\n",
              "  </tbody>\n",
              "</table>\n",
              "</div>"
            ],
            "text/plain": [
              "             frequency_cal  recency_cal  ...  frequency_holdout  duration_holdout\n",
              "Customer_ID                              ...                                     \n",
              "1660                  28.0        147.0  ...               48.0             213.0\n",
              "1710                  24.0        144.0  ...               47.0             213.0\n",
              "2186                   8.0        125.0  ...               46.0             213.0\n",
              "15685                 14.0        131.0  ...               44.0             213.0\n",
              "1665                  27.0        150.0  ...               44.0             213.0\n",
              "\n",
              "[5 rows x 5 columns]"
            ]
          },
          "metadata": {
            "tags": []
          },
          "execution_count": 62
        }
      ]
    },
    {
      "cell_type": "markdown",
      "metadata": {
        "id": "-w1R6FMyOEsJ"
      },
      "source": [
        "With this dataset, we can perform fitting on the _cal columns, and test on the holdout columns:"
      ]
    },
    {
      "cell_type": "code",
      "metadata": {
        "colab": {
          "base_uri": "https://localhost:8080/"
        },
        "id": "jFzcU8O4716z",
        "outputId": "c0a79e5d-5efd-4746-d0f2-29eb26d81afb"
      },
      "source": [
        "bgf.fit(summary_cal_holdout['frequency_cal'], summary_cal_holdout['recency_cal'], summary_cal_holdout['T_cal'], tol = 1e-6)"
      ],
      "execution_count": null,
      "outputs": [
        {
          "output_type": "execute_result",
          "data": {
            "text/plain": [
              "<lifetimes.BetaGeoFitter: fitted with 13708 subjects, a: 0.88, alpha: 51.91, b: 10.94, r: 0.57>"
            ]
          },
          "metadata": {
            "tags": []
          },
          "execution_count": 63
        }
      ]
    },
    {
      "cell_type": "code",
      "metadata": {
        "colab": {
          "base_uri": "https://localhost:8080/",
          "height": 312
        },
        "id": "P-ZRvMhx8F21",
        "outputId": "a4d39c5c-9e6e-4950-988f-2280cb92d447"
      },
      "source": [
        "plot_calibration_purchases_vs_holdout_purchases(bgf, summary_cal_holdout)"
      ],
      "execution_count": null,
      "outputs": [
        {
          "output_type": "execute_result",
          "data": {
            "text/plain": [
              "<matplotlib.axes._subplots.AxesSubplot at 0x7f0cba4bddd0>"
            ]
          },
          "metadata": {
            "tags": []
          },
          "execution_count": 64
        },
        {
          "output_type": "display_data",
          "data": {
            "image/png": "[encoded data removed]",
            "text/plain": [
              "<Figure size 432x288 with 1 Axes>"
            ]
          },
          "metadata": {
            "tags": [],
            "needs_background": "light"
          }
        }
      ]
    },
    {
      "cell_type": "markdown",
      "metadata": {
        "id": "FF1cXs_2rZvO"
      },
      "source": [
        "As we can see, our model over-estimates at 1 purchases and under-estimates at 2 purchases. The BG/NBD model is really good at predicting the number of orders customers will make over longer periods, but obviously this is tougher for shorter durations."
      ]
    },
    {
      "cell_type": "markdown",
      "metadata": {
        "id": "yUoX5gxYr4Ki"
      },
      "source": [
        "**Customer Predictions**"
      ]
    },
    {
      "cell_type": "markdown",
      "metadata": {
        "id": "GjXhZ-soNTHO"
      },
      "source": [
        "Based on customer history, we can predict what an individuals future purchases might look like:"
      ]
    },
    {
      "cell_type": "code",
      "metadata": {
        "colab": {
          "base_uri": "https://localhost:8080/"
        },
        "id": "yaRNvv078Uet",
        "outputId": "9651f229-b2f8-4a3e-a871-915c95edd423"
      },
      "source": [
        "# Predict purchases in 120 periods\n",
        "t = 120\n",
        "individual = df_rfmt.iloc[1]\n",
        "bgf.predict(t, individual['frequency'], individual['recency'], individual['T'])"
      ],
      "execution_count": null,
      "outputs": [
        {
          "output_type": "execute_result",
          "data": {
            "text/plain": [
              "0.41509403962283403"
            ]
          },
          "metadata": {
            "tags": []
          },
          "execution_count": 65
        }
      ]
    },
    {
      "cell_type": "markdown",
      "metadata": {
        "id": "6Kk_c1HM9v-D"
      },
      "source": [
        "The customer in index 1 should place 0.42 orders in the next 120 days."
      ]
    },
    {
      "cell_type": "markdown",
      "metadata": {
        "id": "nycvJ4MYsJJB"
      },
      "source": [
        "**Customer Probability Histories**"
      ]
    },
    {
      "cell_type": "markdown",
      "metadata": {
        "id": "vkwNjbWqxl4n"
      },
      "source": [
        "If we look at customer 9048 from our original dataset, we can see that they’ve placed 99 orders since they were first acquired on 2016-01-13 about 353 days ago. Most of their orders are pretty small, but they come back regularly."
      ]
    },
    {
      "cell_type": "code",
      "metadata": {
        "id": "HAaz9yPc9mf7"
      },
      "source": [
        "example_customer_orders = df.loc[df['Customer_ID'] == 9048]"
      ],
      "execution_count": null,
      "outputs": []
    },
    {
      "cell_type": "code",
      "metadata": {
        "colab": {
          "base_uri": "https://localhost:8080/",
          "height": 419
        },
        "id": "jnxjok7p-ee3",
        "outputId": "56b19008-8580-4a29-ccbf-0c92051066a7"
      },
      "source": [
        "example_customer_orders"
      ],
      "execution_count": null,
      "outputs": [
        {
          "output_type": "execute_result",
          "data": {
            "text/html": [
              "<div>\n",
              "<style scoped>\n",
              "    .dataframe tbody tr th:only-of-type {\n",
              "        vertical-align: middle;\n",
              "    }\n",
              "\n",
              "    .dataframe tbody tr th {\n",
              "        vertical-align: top;\n",
              "    }\n",
              "\n",
              "    .dataframe thead th {\n",
              "        text-align: right;\n",
              "    }\n",
              "</style>\n",
              "<table border=\"1\" class=\"dataframe\">\n",
              "  <thead>\n",
              "    <tr style=\"text-align: right;\">\n",
              "      <th></th>\n",
              "      <th>Customer_ID</th>\n",
              "      <th>Sales_Amount</th>\n",
              "      <th>Date</th>\n",
              "    </tr>\n",
              "  </thead>\n",
              "  <tbody>\n",
              "    <tr>\n",
              "      <th>3849</th>\n",
              "      <td>9048</td>\n",
              "      <td>14.09</td>\n",
              "      <td>2016-01-13</td>\n",
              "    </tr>\n",
              "    <tr>\n",
              "      <th>4343</th>\n",
              "      <td>9048</td>\n",
              "      <td>4.32</td>\n",
              "      <td>2016-01-14</td>\n",
              "    </tr>\n",
              "    <tr>\n",
              "      <th>5450</th>\n",
              "      <td>9048</td>\n",
              "      <td>12.20</td>\n",
              "      <td>2016-01-18</td>\n",
              "    </tr>\n",
              "    <tr>\n",
              "      <th>5705</th>\n",
              "      <td>9048</td>\n",
              "      <td>3.33</td>\n",
              "      <td>2016-01-18</td>\n",
              "    </tr>\n",
              "    <tr>\n",
              "      <th>7376</th>\n",
              "      <td>9048</td>\n",
              "      <td>22.79</td>\n",
              "      <td>2016-01-22</td>\n",
              "    </tr>\n",
              "    <tr>\n",
              "      <th>...</th>\n",
              "      <td>...</td>\n",
              "      <td>...</td>\n",
              "      <td>...</td>\n",
              "    </tr>\n",
              "    <tr>\n",
              "      <th>129824</th>\n",
              "      <td>9048</td>\n",
              "      <td>2.36</td>\n",
              "      <td>2016-07-29</td>\n",
              "    </tr>\n",
              "    <tr>\n",
              "      <th>129825</th>\n",
              "      <td>9048</td>\n",
              "      <td>13.58</td>\n",
              "      <td>2016-07-29</td>\n",
              "    </tr>\n",
              "    <tr>\n",
              "      <th>129826</th>\n",
              "      <td>9048</td>\n",
              "      <td>3.85</td>\n",
              "      <td>2016-07-29</td>\n",
              "    </tr>\n",
              "    <tr>\n",
              "      <th>129827</th>\n",
              "      <td>9048</td>\n",
              "      <td>14.37</td>\n",
              "      <td>2016-07-29</td>\n",
              "    </tr>\n",
              "    <tr>\n",
              "      <th>129828</th>\n",
              "      <td>9048</td>\n",
              "      <td>6.70</td>\n",
              "      <td>2016-07-29</td>\n",
              "    </tr>\n",
              "  </tbody>\n",
              "</table>\n",
              "<p>99 rows × 3 columns</p>\n",
              "</div>"
            ],
            "text/plain": [
              "        Customer_ID  Sales_Amount       Date\n",
              "3849           9048         14.09 2016-01-13\n",
              "4343           9048          4.32 2016-01-14\n",
              "5450           9048         12.20 2016-01-18\n",
              "5705           9048          3.33 2016-01-18\n",
              "7376           9048         22.79 2016-01-22\n",
              "...             ...           ...        ...\n",
              "129824         9048          2.36 2016-07-29\n",
              "129825         9048         13.58 2016-07-29\n",
              "129826         9048          3.85 2016-07-29\n",
              "129827         9048         14.37 2016-07-29\n",
              "129828         9048          6.70 2016-07-29\n",
              "\n",
              "[99 rows x 3 columns]"
            ]
          },
          "metadata": {
            "tags": []
          },
          "execution_count": 67
        }
      ]
    },
    {
      "cell_type": "markdown",
      "metadata": {
        "id": "YZF24rJlM801"
      },
      "source": [
        "Given a customer transaction history, we can calculate their historical probability of being alive, according to our trained model. For example:"
      ]
    },
    {
      "cell_type": "code",
      "metadata": {
        "colab": {
          "base_uri": "https://localhost:8080/",
          "height": 446
        },
        "id": "tRxdTgRL-hW0",
        "outputId": "5ed21a01-c91e-419d-8407-c22876f2f6e5"
      },
      "source": [
        "# Plot customer probability history\n",
        "figure(num = None, figsize = (14, 6), dpi = 80, facecolor = 'w', edgecolor = 'k')\n",
        "days_since_birth = 353\n",
        "plot_history_alive(bgf, days_since_birth, example_customer_orders, 'Date')"
      ],
      "execution_count": null,
      "outputs": [
        {
          "output_type": "execute_result",
          "data": {
            "text/plain": [
              "<matplotlib.axes._subplots.AxesSubplot at 0x7f0cada4ce10>"
            ]
          },
          "metadata": {
            "tags": []
          },
          "execution_count": 80
        },
        {
          "output_type": "display_data",
          "data": {
            "image/png": "[encoded data removed]",
            "text/plain": [
              "<Figure size 1120x480 with 1 Axes>"
            ]
          },
          "metadata": {
            "tags": []
          }
        }
      ]
    },
    {
      "cell_type": "markdown",
      "metadata": {
        "id": "zl0CYWZ_1ZPw"
      },
      "source": [
        "Our best customer is definitely alive, however, he had one hiatus in the second half of the year 2016."
      ]
    },
    {
      "cell_type": "code",
      "metadata": {
        "id": "TvI9DAJxlNL_",
        "colab": {
          "base_uri": "https://localhost:8080/",
          "height": 446
        },
        "outputId": "c9e7a3d8-9140-4127-d1a2-a7ecee0304f7"
      },
      "source": [
        "figure(num = None, figsize = (14, 6), dpi = 80, facecolor = 'w', edgecolor = 'k')\n",
        "days_since_birth = 473\n",
        "plot_history_alive(bgf, days_since_birth, example_customer_orders, 'Date')"
      ],
      "execution_count": null,
      "outputs": [
        {
          "output_type": "execute_result",
          "data": {
            "text/plain": [
              "<matplotlib.axes._subplots.AxesSubplot at 0x7f0caf171150>"
            ]
          },
          "metadata": {
            "tags": []
          },
          "execution_count": 84
        },
        {
          "output_type": "display_data",
          "data": {
            "image/png": "[encoded data removed]",
            "text/plain": [
              "<Figure size 1120x480 with 1 Axes>"
            ]
          },
          "metadata": {
            "tags": []
          }
        }
      ]
    },
    {
      "cell_type": "markdown",
      "metadata": {
        "id": "Rp2Ft8LT8lG2"
      },
      "source": [
        "If we now change the days_since_birth value from the actual length of their tenure (353 days) to a longer period, we’ll see how their probability of being alive plummets. If they don’t order again before the first quarter of 2017, the chances of them being alive are very slim. Either that, or they’re a seasonal customer and they might come back again next year."
      ]
    },
    {
      "cell_type": "code",
      "metadata": {
        "colab": {
          "base_uri": "https://localhost:8080/",
          "height": 235
        },
        "id": "KTqQ2IM62A8b",
        "outputId": "6afc77e2-0f96-47b2-bffa-537aad7ef679"
      },
      "source": [
        "returning_customers = df_rfmt[df_rfmt['frequency'] > 0]\n",
        "returning_customers = df_rfmt[df_rfmt['monetary_value'] > 0]\n",
        "returning_customers.sort_values(by = 'monetary_value', ascending = False).head()"
      ],
      "execution_count": null,
      "outputs": [
        {
          "output_type": "execute_result",
          "data": {
            "text/html": [
              "<div>\n",
              "<style scoped>\n",
              "    .dataframe tbody tr th:only-of-type {\n",
              "        vertical-align: middle;\n",
              "    }\n",
              "\n",
              "    .dataframe tbody tr th {\n",
              "        vertical-align: top;\n",
              "    }\n",
              "\n",
              "    .dataframe thead th {\n",
              "        text-align: right;\n",
              "    }\n",
              "</style>\n",
              "<table border=\"1\" class=\"dataframe\">\n",
              "  <thead>\n",
              "    <tr style=\"text-align: right;\">\n",
              "      <th></th>\n",
              "      <th>frequency</th>\n",
              "      <th>recency</th>\n",
              "      <th>T</th>\n",
              "      <th>monetary_value</th>\n",
              "      <th>predicted_purchases</th>\n",
              "    </tr>\n",
              "    <tr>\n",
              "      <th>Customer_ID</th>\n",
              "      <th></th>\n",
              "      <th></th>\n",
              "      <th></th>\n",
              "      <th></th>\n",
              "      <th></th>\n",
              "    </tr>\n",
              "  </thead>\n",
              "  <tbody>\n",
              "    <tr>\n",
              "      <th>20906</th>\n",
              "      <td>2.0</td>\n",
              "      <td>249.0</td>\n",
              "      <td>360.0</td>\n",
              "      <td>593.94</td>\n",
              "      <td>0.005176</td>\n",
              "    </tr>\n",
              "    <tr>\n",
              "      <th>551</th>\n",
              "      <td>1.0</td>\n",
              "      <td>16.0</td>\n",
              "      <td>348.0</td>\n",
              "      <td>432.84</td>\n",
              "      <td>0.001450</td>\n",
              "    </tr>\n",
              "    <tr>\n",
              "      <th>19732</th>\n",
              "      <td>1.0</td>\n",
              "      <td>60.0</td>\n",
              "      <td>131.0</td>\n",
              "      <td>384.67</td>\n",
              "      <td>0.006393</td>\n",
              "    </tr>\n",
              "    <tr>\n",
              "      <th>3316</th>\n",
              "      <td>1.0</td>\n",
              "      <td>4.0</td>\n",
              "      <td>352.0</td>\n",
              "      <td>367.41</td>\n",
              "      <td>0.001191</td>\n",
              "    </tr>\n",
              "    <tr>\n",
              "      <th>5825</th>\n",
              "      <td>1.0</td>\n",
              "      <td>83.0</td>\n",
              "      <td>261.0</td>\n",
              "      <td>358.47</td>\n",
              "      <td>0.003323</td>\n",
              "    </tr>\n",
              "  </tbody>\n",
              "</table>\n",
              "</div>"
            ],
            "text/plain": [
              "             frequency  recency      T  monetary_value  predicted_purchases\n",
              "Customer_ID                                                                \n",
              "20906              2.0    249.0  360.0          593.94             0.005176\n",
              "551                1.0     16.0  348.0          432.84             0.001450\n",
              "19732              1.0     60.0  131.0          384.67             0.006393\n",
              "3316               1.0      4.0  352.0          367.41             0.001191\n",
              "5825               1.0     83.0  261.0          358.47             0.003323"
            ]
          },
          "metadata": {
            "tags": []
          },
          "execution_count": 85
        }
      ]
    },
    {
      "cell_type": "markdown",
      "metadata": {
        "id": "IUJjE640CH2g"
      },
      "source": [
        "We are only estimating the customers who had at least one repeat purchase with us. Therefore, we are estimating for 10,766 customers."
      ]
    },
    {
      "cell_type": "code",
      "metadata": {
        "colab": {
          "base_uri": "https://localhost:8080/"
        },
        "id": "IEwPoH7IDWKK",
        "outputId": "fbd3d147-8400-406b-9a06-093e162556b3"
      },
      "source": [
        "print(len(returning_customers))"
      ],
      "execution_count": null,
      "outputs": [
        {
          "output_type": "stream",
          "text": [
            "10766\n"
          ],
          "name": "stdout"
        }
      ]
    },
    {
      "cell_type": "markdown",
      "metadata": {
        "id": "fjLhbnKvtRS3"
      },
      "source": [
        "**The Gamma-Gamma model and the independence assumption**"
      ]
    },
    {
      "cell_type": "markdown",
      "metadata": {
        "id": "uaTFdHR0Lzc8"
      },
      "source": [
        "The model we are going to use to estimate the CLV for our userbase is called the Gamma-Gamma submodel, which\n",
        "relies upon an important assumption. The Gamma-Gamma submodel, in fact, assumes that there is no relationship\n",
        "between the monetary value and the purchase frequency. In practice we need to check whether the Pearson correlation\n",
        "between the two vectors is close to 0 in order to use this model."
      ]
    },
    {
      "cell_type": "code",
      "metadata": {
        "colab": {
          "base_uri": "https://localhost:8080/",
          "height": 111
        },
        "id": "fw8ClRRr-vr-",
        "outputId": "dfb901fd-5607-4f69-f62c-8d0c2b366e4f"
      },
      "source": [
        "returning_customers[['monetary_value', 'frequency']].corr()"
      ],
      "execution_count": null,
      "outputs": [
        {
          "output_type": "execute_result",
          "data": {
            "text/html": [
              "<div>\n",
              "<style scoped>\n",
              "    .dataframe tbody tr th:only-of-type {\n",
              "        vertical-align: middle;\n",
              "    }\n",
              "\n",
              "    .dataframe tbody tr th {\n",
              "        vertical-align: top;\n",
              "    }\n",
              "\n",
              "    .dataframe thead th {\n",
              "        text-align: right;\n",
              "    }\n",
              "</style>\n",
              "<table border=\"1\" class=\"dataframe\">\n",
              "  <thead>\n",
              "    <tr style=\"text-align: right;\">\n",
              "      <th></th>\n",
              "      <th>monetary_value</th>\n",
              "      <th>frequency</th>\n",
              "    </tr>\n",
              "  </thead>\n",
              "  <tbody>\n",
              "    <tr>\n",
              "      <th>monetary_value</th>\n",
              "      <td>1.000000</td>\n",
              "      <td>0.058109</td>\n",
              "    </tr>\n",
              "    <tr>\n",
              "      <th>frequency</th>\n",
              "      <td>0.058109</td>\n",
              "      <td>1.000000</td>\n",
              "    </tr>\n",
              "  </tbody>\n",
              "</table>\n",
              "</div>"
            ],
            "text/plain": [
              "                monetary_value  frequency\n",
              "monetary_value        1.000000   0.058109\n",
              "frequency             0.058109   1.000000"
            ]
          },
          "metadata": {
            "tags": []
          },
          "execution_count": 86
        }
      ]
    },
    {
      "cell_type": "markdown",
      "metadata": {
        "id": "d-8RdsuAsefS"
      },
      "source": [
        "**Estimating customer lifetime value using the Gamma-Gamma model**"
      ]
    },
    {
      "cell_type": "code",
      "metadata": {
        "id": "2uThpVt0I-v2"
      },
      "source": [
        "from lifetimes import GammaGammaFitter"
      ],
      "execution_count": null,
      "outputs": []
    },
    {
      "cell_type": "markdown",
      "metadata": {
        "id": "Yeqe655XMJRa"
      },
      "source": [
        "At this point we can train our Gamma-Gamma submodel and predict the conditional, expected average lifetime value of our customers."
      ]
    },
    {
      "cell_type": "code",
      "metadata": {
        "id": "CRVn6PDqBwbU"
      },
      "source": [
        "ggf = GammaGammaFitter(penalizer_coef = 0)"
      ],
      "execution_count": null,
      "outputs": []
    },
    {
      "cell_type": "code",
      "metadata": {
        "colab": {
          "base_uri": "https://localhost:8080/"
        },
        "id": "h3RB0u2iIkDz",
        "outputId": "b3b54b24-d41d-4185-b9f4-c6f221fc4c50"
      },
      "source": [
        "ggf.fit(returning_customers['frequency'], returning_customers['monetary_value'])"
      ],
      "execution_count": null,
      "outputs": [
        {
          "output_type": "execute_result",
          "data": {
            "text/plain": [
              "<lifetimes.GammaGammaFitter: fitted with 10766 subjects, p: 2.23, q: 2.55, v: 17.59>"
            ]
          },
          "metadata": {
            "tags": []
          },
          "execution_count": 94
        }
      ]
    },
    {
      "cell_type": "markdown",
      "metadata": {
        "id": "4ja0yYk9MdSd"
      },
      "source": [
        "We can now estimate the average transaction value:"
      ]
    },
    {
      "cell_type": "code",
      "metadata": {
        "id": "7YOR7KM1JA85"
      },
      "source": [
        "predicted_monetary = ggf.conditional_expected_average_profit(returning_customers['frequency'], returning_customers['monetary_value'])"
      ],
      "execution_count": null,
      "outputs": []
    },
    {
      "cell_type": "code",
      "metadata": {
        "colab": {
          "base_uri": "https://localhost:8080/"
        },
        "id": "fwtjKI7EJhM6",
        "outputId": "779dd007-e031-451f-ea36-10957f171ab0"
      },
      "source": [
        "predicted_monetary.head()"
      ],
      "execution_count": null,
      "outputs": [
        {
          "output_type": "execute_result",
          "data": {
            "text/plain": [
              "Customer_ID\n",
              "2     19.221344\n",
              "4     14.320295\n",
              "5     16.245331\n",
              "13    23.892381\n",
              "14    87.589236\n",
              "dtype: float64"
            ]
          },
          "metadata": {
            "tags": []
          },
          "execution_count": 96
        }
      ]
    },
    {
      "cell_type": "code",
      "metadata": {
        "colab": {
          "base_uri": "https://localhost:8080/"
        },
        "id": "EuviSL6TJnxC",
        "outputId": "583c511f-9e2f-4042-b29d-9b778fbbb43c"
      },
      "source": [
        "print('Expected conditional average profit: %s, Average profit: %s' % (\n",
        "ggf.conditional_expected_average_profit(returning_customers['frequency'], returning_customers['monetary_value']).mean(), returning_customers[returning_customers['frequency'] > 0]['monetary_value'].mean()))"
      ],
      "execution_count": null,
      "outputs": [
        {
          "output_type": "stream",
          "text": [
            "Expected conditional average profit: 25.06270369583754, Average profit: 24.604821083366144\n"
          ],
          "name": "stdout"
        }
      ]
    },
    {
      "cell_type": "markdown",
      "metadata": {
        "id": "kM2QBTM7ftYp"
      },
      "source": [
        "Finally, we’ll get to the good bit - predicting Customer Lifetime Value. To do this we’ll use both models - the BG/NBD model to predict the number of orders and the Gamma-Gamma model to predict their values. First we’ll re-fit the BetaGeoFitter BG/NBD model to our dataset for the returning customers, which includes the monetary data."
      ]
    },
    {
      "cell_type": "code",
      "metadata": {
        "colab": {
          "base_uri": "https://localhost:8080/"
        },
        "id": "vgXliLuDbUU3",
        "outputId": "f68b46f4-925f-42ca-f9a2-1275f84b4f38"
      },
      "source": [
        "# Refit the BG model to the summary_with_money_value dataset\n",
        "bgf.fit(returning_customers['frequency'], returning_customers['recency'], returning_customers['T'])"
      ],
      "execution_count": null,
      "outputs": [
        {
          "output_type": "execute_result",
          "data": {
            "text/plain": [
              "<lifetimes.BetaGeoFitter: fitted with 10766 subjects, a: 0.20, alpha: 132.63, b: 0.72, r: 2.47>"
            ]
          },
          "metadata": {
            "tags": []
          },
          "execution_count": 101
        }
      ]
    },
    {
      "cell_type": "markdown",
      "metadata": {
        "id": "AdY8LmPZgR_M"
      },
      "source": [
        "Next, we will use the Gamma-Gamma model’s customer_lifetime_value ( ) function to predict their value. We’ll pass in the bgf model, along with the recency, frequency, monetary_value, and T data for each customers. The time parameter is in months and defines how many months into the future we wish to predict."
      ]
    },
    {
      "cell_type": "code",
      "metadata": {
        "id": "RPIOgX_LgThW"
      },
      "source": [
        "preds = ggf.customer_lifetime_value(bgf, returning_customers['frequency'], returning_customers['recency'], returning_customers['T'], returning_customers['monetary_value'], time = 12, discount_rate = 0.01)\n",
        "preds = preds.to_frame().reset_index()"
      ],
      "execution_count": null,
      "outputs": []
    },
    {
      "cell_type": "markdown",
      "metadata": {
        "id": "FQ3BSjzZjSif"
      },
      "source": [
        "If you sort the dataframe in descending order of the predicted CLV, you’ll see who the model predicts your best customers to be over the next 12 months. "
      ]
    },
    {
      "cell_type": "code",
      "metadata": {
        "colab": {
          "base_uri": "https://localhost:8080/",
          "height": 204
        },
        "id": "eeYkl06ojNbL",
        "outputId": "2211c2ea-b746-4c08-d125-2cbfcd5248c0"
      },
      "source": [
        "preds.sort_values(by='clv', ascending = False).head()"
      ],
      "execution_count": null,
      "outputs": [
        {
          "output_type": "execute_result",
          "data": {
            "text/html": [
              "<div>\n",
              "<style scoped>\n",
              "    .dataframe tbody tr th:only-of-type {\n",
              "        vertical-align: middle;\n",
              "    }\n",
              "\n",
              "    .dataframe tbody tr th {\n",
              "        vertical-align: top;\n",
              "    }\n",
              "\n",
              "    .dataframe thead th {\n",
              "        text-align: right;\n",
              "    }\n",
              "</style>\n",
              "<table border=\"1\" class=\"dataframe\">\n",
              "  <thead>\n",
              "    <tr style=\"text-align: right;\">\n",
              "      <th></th>\n",
              "      <th>Customer_ID</th>\n",
              "      <th>clv</th>\n",
              "    </tr>\n",
              "  </thead>\n",
              "  <tbody>\n",
              "    <tr>\n",
              "      <th>8104</th>\n",
              "      <td>17104</td>\n",
              "      <td>2576.303636</td>\n",
              "    </tr>\n",
              "    <tr>\n",
              "      <th>8417</th>\n",
              "      <td>17471</td>\n",
              "      <td>2557.344356</td>\n",
              "    </tr>\n",
              "    <tr>\n",
              "      <th>8267</th>\n",
              "      <td>17294</td>\n",
              "      <td>2554.155906</td>\n",
              "    </tr>\n",
              "    <tr>\n",
              "      <th>7001</th>\n",
              "      <td>15540</td>\n",
              "      <td>1886.894642</td>\n",
              "    </tr>\n",
              "    <tr>\n",
              "      <th>7112</th>\n",
              "      <td>15677</td>\n",
              "      <td>1719.668748</td>\n",
              "    </tr>\n",
              "  </tbody>\n",
              "</table>\n",
              "</div>"
            ],
            "text/plain": [
              "      Customer_ID          clv\n",
              "8104        17104  2576.303636\n",
              "8417        17471  2557.344356\n",
              "8267        17294  2554.155906\n",
              "7001        15540  1886.894642\n",
              "7112        15677  1719.668748"
            ]
          },
          "metadata": {
            "tags": []
          },
          "execution_count": 103
        }
      ]
    }
  ]
}